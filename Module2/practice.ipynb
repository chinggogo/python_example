{
 "cells": [
  {
   "cell_type": "markdown",
   "metadata": {},
   "source": [
    "百貨公司周年慶 消費金額超過 2000 要折 200  \n",
    "\n",
    "請撰寫一支程式  \n",
    "計算客戶消費的結帳金額"
   ]
  },
  {
   "cell_type": "code",
   "execution_count": null,
   "metadata": {},
   "outputs": [],
   "source": []
  },
  {
   "cell_type": "code",
   "execution_count": null,
   "metadata": {},
   "outputs": [],
   "source": [
    "num = int(input(\"輸入消費金額:> \"))\n",
    "if num > 2000:\n",
    "    print(\"消費金額 : \" + str(num) + \"-200 = \" + str(num -200))\n",
    "else:\n",
    "    print(\"消費金額 : \" + str(num))"
   ]
  },
  {
   "cell_type": "code",
   "execution_count": null,
   "metadata": {},
   "outputs": [],
   "source": [
    "##可累折"
   ]
  }
 ],
 "metadata": {
  "kernelspec": {
   "display_name": "Python 3",
   "language": "python",
   "name": "python3"
  },
  "language_info": {
   "codemirror_mode": {
    "name": "ipython",
    "version": 3
   },
   "file_extension": ".py",
   "mimetype": "text/x-python",
   "name": "python",
   "nbconvert_exporter": "python",
   "pygments_lexer": "ipython3",
   "version": "3.13.0"
  }
 },
 "nbformat": 4,
 "nbformat_minor": 2
}
